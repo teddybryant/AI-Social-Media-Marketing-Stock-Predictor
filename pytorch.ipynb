{
 "cells": [
  {
   "cell_type": "code",
   "execution_count": 30,
   "metadata": {
    "collapsed": true,
    "pycharm": {
     "name": "#%%\n"
    }
   },
   "outputs": [],
   "source": [
    "import torch\n",
    "import torch.nn as nn\n",
    "import numpy as np\n",
    "from torch.utils.data import DataLoader, Dataset\n",
    "from sklearn.model_selection import train_test_split\n",
    "import pandas as pd"
   ]
  },
  {
   "cell_type": "code",
   "execution_count": 31,
   "outputs": [],
   "source": [
    "# our data\n",
    "gopro = pd.read_csv('Clean_Final/gopro_final_data.csv')\n",
    "gopro_x = gopro.drop(['week','highChange (above 6% change)', 'aboveAvgVol'], axis=1).values\n",
    "# print(gopro_x)\n",
    "gopro_y1 = gopro['highChange (above 6% change)'].values\n",
    "\n",
    "# split data into train and test\n",
    "gopro_x_train, gopro_x_test, gopro_y1_train, gopro_y1_test = train_test_split(gopro_x, gopro_y1, test_size=0.2, random_state=42)"
   ],
   "metadata": {
    "collapsed": false,
    "pycharm": {
     "name": "#%%\n"
    }
   }
  },
  {
   "cell_type": "code",
   "execution_count": 32,
   "outputs": [],
   "source": [
    "class Data(Dataset):\n",
    "    def __init__(self, X_train, y_train):\n",
    "        # need to convert float64 to float32 else\n",
    "        # will get the following error\n",
    "        # RuntimeError: expected scalar type Double but found Float\n",
    "        self.X = torch.from_numpy(X_train.astype(np.float32))\n",
    "        # need to convert float64 to Long else\n",
    "        # will get the following error\n",
    "        # RuntimeError: expected scalar type Long but found Float\n",
    "        self.y = torch.from_numpy(y_train).type(torch.LongTensor)\n",
    "        self.len = self.X.shape[0]\n",
    "\n",
    "    def __getitem__(self, index):\n",
    "        return self.X[index], self.y[index]\n",
    "\n",
    "    def __len__(self):\n",
    "        return self.len\n",
    "\n",
    "\n",
    "# our data\n",
    "gopro_train = Data(gopro_x_train, gopro_y1_train)\n",
    "batch_size = 4\n",
    "gopro_loader = DataLoader(gopro_train, batch_size=batch_size,\n",
    "                         shuffle=True)"
   ],
   "metadata": {
    "collapsed": false,
    "pycharm": {
     "name": "#%%\n"
    }
   }
  },
  {
   "cell_type": "code",
   "execution_count": 33,
   "outputs": [],
   "source": [
    "import torch.nn as nn\n",
    "# number of features (len of X cols)\n",
    "input_dim = 22\n",
    "# number of hidden layers\n",
    "hidden_layers = 25\n",
    "# number of classes (unique of y)\n",
    "output_dim = 3\n",
    "class Network(nn.Module):\n",
    "  def __init__(self):\n",
    "    super(Network, self).__init__()\n",
    "    self.linear1 = nn.Linear(input_dim, hidden_layers)\n",
    "    self.linear2 = nn.Linear(hidden_layers, output_dim)\n",
    "  def forward(self, x):\n",
    "    x = torch.sigmoid(self.linear1(x))\n",
    "    x = self.linear2(x)\n",
    "    return x"
   ],
   "metadata": {
    "collapsed": false,
    "pycharm": {
     "name": "#%%\n"
    }
   }
  },
  {
   "cell_type": "code",
   "execution_count": 34,
   "outputs": [
    {
     "name": "stdout",
     "output_type": "stream",
     "text": [
      "<bound method Module.parameters of Network(\n",
      "  (linear1): Linear(in_features=22, out_features=25, bias=True)\n",
      "  (linear2): Linear(in_features=25, out_features=3, bias=True)\n",
      ")>\n"
     ]
    }
   ],
   "source": [
    "clf = Network()\n",
    "print(clf.parameters)"
   ],
   "metadata": {
    "collapsed": false,
    "pycharm": {
     "name": "#%%\n"
    }
   }
  },
  {
   "cell_type": "code",
   "execution_count": 35,
   "outputs": [],
   "source": [
    "criterion = nn.CrossEntropyLoss()\n",
    "optimizer = torch.optim.SGD(clf.parameters(), lr=0.001)"
   ],
   "metadata": {
    "collapsed": false,
    "pycharm": {
     "name": "#%%\n"
    }
   }
  },
  {
   "cell_type": "code",
   "execution_count": 36,
   "outputs": [
    {
     "name": "stdout",
     "output_type": "stream",
     "text": [
      "[1,     7] loss: 0.00329\n",
      "[2,     7] loss: 0.00328\n"
     ]
    }
   ],
   "source": [
    "epoch = 2\n",
    "for epoch in range(epoch):\n",
    "    running_loss = 0\n",
    "    for i, data in enumerate(gopro_loader, 0):\n",
    "        inputs, labels = data\n",
    "        # set optimizer to zero grad to remove previous epoch gradients\n",
    "        optimizer.zero_grad()\n",
    "        # forward propagation\n",
    "        outputs = clf(inputs)\n",
    "        loss = criterion(outputs, labels)\n",
    "        # backward propagation\n",
    "        loss.backward()\n",
    "        # optimize\n",
    "        optimizer.step()\n",
    "        running_loss += loss.item()\n",
    "    # display statistics\n",
    "    print(f'[{epoch+ 1}, {i + 1:5d}] loss: {running_loss/ 2000:.5f}')"
   ],
   "metadata": {
    "collapsed": false,
    "pycharm": {
     "name": "#%%\n"
    }
   }
  },
  {
   "cell_type": "code",
   "execution_count": 37,
   "outputs": [],
   "source": [
    "path = './gopro_model1.path'\n",
    "torch.save(clf.state_dict(), path)"
   ],
   "metadata": {
    "collapsed": false,
    "pycharm": {
     "name": "#%%\n"
    }
   }
  },
  {
   "cell_type": "code",
   "execution_count": 38,
   "outputs": [
    {
     "name": "stdout",
     "output_type": "stream",
     "text": [
      "[tensor([0, 1, 1, 1]), tensor([0, 0, 1, 0])]\n",
      "[tensor([1, 1, 1]), tensor([1, 0, 1])]\n",
      "Accuracy of the network on the 7 test data: 57 %\n"
     ]
    }
   ],
   "source": [
    "# test model\n",
    "model = Network()\n",
    "model.load_state_dict(torch.load(path))\n",
    "\n",
    "# test data\n",
    "gopro_test = Data(gopro_x_test, gopro_y1_test)\n",
    "gopro_test_loader = DataLoader(gopro_test, batch_size=batch_size,\n",
    "                        shuffle=True)\n",
    "\n",
    "# test\n",
    "correct, total = 0, 0\n",
    "# no need to calculate gradients during inference\n",
    "with torch.no_grad():\n",
    "  for data in gopro_test_loader:\n",
    "    inputs, labels = data\n",
    "    # calculate output by running through the network\n",
    "    outputs = model(inputs)\n",
    "    # get the predictions\n",
    "    __, predicted = torch.max(outputs.data, 1)\n",
    "    print([predicted, labels])\n",
    "    # update results\n",
    "    total += labels.size(0)\n",
    "    correct += (predicted == labels).sum().item()\n",
    "print(f'Accuracy of the network on the {len(gopro_test)} test data: {100 * correct // total} %')"
   ],
   "metadata": {
    "collapsed": false,
    "pycharm": {
     "name": "#%%\n"
    }
   }
  },
  {
   "cell_type": "code",
   "execution_count": 38,
   "outputs": [],
   "source": [],
   "metadata": {
    "collapsed": false,
    "pycharm": {
     "name": "#%%\n"
    }
   }
  }
 ],
 "metadata": {
  "kernelspec": {
   "display_name": "Python 3",
   "language": "python",
   "name": "python3"
  },
  "language_info": {
   "codemirror_mode": {
    "name": "ipython",
    "version": 2
   },
   "file_extension": ".py",
   "mimetype": "text/x-python",
   "name": "python",
   "nbconvert_exporter": "python",
   "pygments_lexer": "ipython2",
   "version": "2.7.6"
  }
 },
 "nbformat": 4,
 "nbformat_minor": 0
}